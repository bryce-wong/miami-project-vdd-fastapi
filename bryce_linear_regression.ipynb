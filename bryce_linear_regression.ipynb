{
 "cells": [
  {
   "cell_type": "markdown",
   "metadata": {},
   "source": [
    "# Simple regression models for the Miami Project"
   ]
  },
  {
   "cell_type": "markdown",
   "metadata": {},
   "source": [
    "## Data Setup"
   ]
  },
  {
   "cell_type": "markdown",
   "metadata": {},
   "source": [
    "First importing libraries"
   ]
  },
  {
   "cell_type": "code",
   "execution_count": 1,
   "metadata": {},
   "outputs": [],
   "source": [
    "import pandas as pd"
   ]
  },
  {
   "cell_type": "markdown",
   "metadata": {},
   "source": [
    "Loading data and taking a look"
   ]
  },
  {
   "cell_type": "code",
   "execution_count": 46,
   "metadata": {},
   "outputs": [
    {
     "name": "stderr",
     "output_type": "stream",
     "text": [
      "C:\\Users\\Dell\\Anaconda3\\lib\\site-packages\\ipykernel_launcher.py:5: RuntimeWarning: divide by zero encountered in log\n",
      "  \"\"\"\n"
     ]
    }
   ],
   "source": [
    "data = pd.read_csv(\"miami_permit_data.csv\")\n",
    "data.head()\n",
    "\n",
    "#using some data-cleaning code from Ivy\n",
    "data['TotalDaysInPlanReviewNumeric'] = np.log(data['TotalDaysInPlanReviewNumeric'])\n",
    "data = data.replace([np.inf, -np.inf], np.nan)\n",
    "data = data[data['TotalDaysInPlanReviewNumeric'].notna() & data['TotalSQFT'].notnull() & data['ScopeofWork'].notnull() & data['PropertyType'].notnull() & data['IsPrivateProvider'].notnull()]"
   ]
  },
  {
   "cell_type": "markdown",
   "metadata": {},
   "source": [
    "Restricting data to the variables decided on by the ML team:\n",
    "* PropertyType\n",
    "* ScopeofWork\n",
    "* TotalSQFT\n",
    "* IsPrivateProvider\n",
    "\n",
    "Dependent variable is \n",
    "* TotalDaysInPlanReviewNumeric"
   ]
  },
  {
   "cell_type": "code",
   "execution_count": 47,
   "metadata": {},
   "outputs": [],
   "source": [
    "y = data['TotalDaysInPlanReviewNumeric']\n",
    "X = data[['PropertyType', 'ScopeofWork', 'TotalSQFT','IsPrivateProvider']]"
   ]
  },
  {
   "cell_type": "code",
   "execution_count": 48,
   "metadata": {
    "scrolled": true
   },
   "outputs": [
    {
     "data": {
      "text/plain": [
       "0    3.044522\n",
       "1    5.398163\n",
       "2    1.609438\n",
       "5    5.087596\n",
       "6    0.000000\n",
       "Name: TotalDaysInPlanReviewNumeric, dtype: float64"
      ]
     },
     "execution_count": 48,
     "metadata": {},
     "output_type": "execute_result"
    }
   ],
   "source": [
    "y.head()"
   ]
  },
  {
   "cell_type": "code",
   "execution_count": 49,
   "metadata": {},
   "outputs": [
    {
     "data": {
      "text/html": [
       "<div>\n",
       "<style scoped>\n",
       "    .dataframe tbody tr th:only-of-type {\n",
       "        vertical-align: middle;\n",
       "    }\n",
       "\n",
       "    .dataframe tbody tr th {\n",
       "        vertical-align: top;\n",
       "    }\n",
       "\n",
       "    .dataframe thead th {\n",
       "        text-align: right;\n",
       "    }\n",
       "</style>\n",
       "<table border=\"1\" class=\"dataframe\">\n",
       "  <thead>\n",
       "    <tr style=\"text-align: right;\">\n",
       "      <th></th>\n",
       "      <th>PropertyType</th>\n",
       "      <th>ScopeofWork</th>\n",
       "      <th>TotalSQFT</th>\n",
       "      <th>IsPrivateProvider</th>\n",
       "    </tr>\n",
       "  </thead>\n",
       "  <tbody>\n",
       "    <tr>\n",
       "      <th>0</th>\n",
       "      <td>Commercial</td>\n",
       "      <td>NEW CONSTRUCTION</td>\n",
       "      <td>0.0</td>\n",
       "      <td>True</td>\n",
       "    </tr>\n",
       "    <tr>\n",
       "      <th>1</th>\n",
       "      <td>Residential</td>\n",
       "      <td>ADDITION AND REMODELING</td>\n",
       "      <td>880.0</td>\n",
       "      <td>False</td>\n",
       "    </tr>\n",
       "    <tr>\n",
       "      <th>2</th>\n",
       "      <td>Commercial</td>\n",
       "      <td>NEW CONSTRUCTION</td>\n",
       "      <td>0.0</td>\n",
       "      <td>True</td>\n",
       "    </tr>\n",
       "    <tr>\n",
       "      <th>5</th>\n",
       "      <td>Commercial</td>\n",
       "      <td>REMODELING/REPAIRS</td>\n",
       "      <td>800.0</td>\n",
       "      <td>False</td>\n",
       "    </tr>\n",
       "    <tr>\n",
       "      <th>6</th>\n",
       "      <td>Commercial</td>\n",
       "      <td>PLUMBING</td>\n",
       "      <td>0.0</td>\n",
       "      <td>False</td>\n",
       "    </tr>\n",
       "  </tbody>\n",
       "</table>\n",
       "</div>"
      ],
      "text/plain": [
       "  PropertyType              ScopeofWork  TotalSQFT  IsPrivateProvider\n",
       "0   Commercial         NEW CONSTRUCTION        0.0               True\n",
       "1  Residential  ADDITION AND REMODELING      880.0              False\n",
       "2   Commercial         NEW CONSTRUCTION        0.0               True\n",
       "5   Commercial       REMODELING/REPAIRS      800.0              False\n",
       "6   Commercial                 PLUMBING        0.0              False"
      ]
     },
     "execution_count": 49,
     "metadata": {},
     "output_type": "execute_result"
    }
   ],
   "source": [
    "X.head()"
   ]
  },
  {
   "cell_type": "markdown",
   "metadata": {},
   "source": [
    "One-hot encoding and splitting dataset into testing and training.\n",
    "\n",
    "*PS: if someone knows how to do this better please let me know! I'm still a little new to one-hot encoding*"
   ]
  },
  {
   "cell_type": "code",
   "execution_count": 50,
   "metadata": {
    "scrolled": true
   },
   "outputs": [],
   "source": [
    "from sklearn.model_selection import train_test_split\n",
    "import numpy as np\n",
    "\n",
    "#Choosing columns that are categorical\n",
    "cat_columns = [\"PropertyType\", \"ScopeofWork\",\"IsPrivateProvider\"]\n",
    "\n",
    "#Creating training and testing data\n",
    "X_train, X_test, y_train, y_test = train_test_split(X, y, random_state=42)\n",
    "\n",
    "#One-hot encoding:\n",
    "X_train_processed = pd.get_dummies(X_train, prefix_sep=\"__\",\n",
    "                              columns=cat_columns)\n",
    "\n",
    "cat_dummies = [col for col in X_train_processed \n",
    "               if \"__\" in col \n",
    "               and col.split(\"__\")[0] in cat_columns]\n",
    "\n",
    "processed_columns = list(X_train_processed.columns[:])\n",
    "\n",
    "X_test_processed = pd.get_dummies(X_test, prefix_sep=\"__\", \n",
    "                                   columns=cat_columns)"
   ]
  },
  {
   "cell_type": "code",
   "execution_count": 51,
   "metadata": {},
   "outputs": [
    {
     "data": {
      "text/html": [
       "<div>\n",
       "<style scoped>\n",
       "    .dataframe tbody tr th:only-of-type {\n",
       "        vertical-align: middle;\n",
       "    }\n",
       "\n",
       "    .dataframe tbody tr th {\n",
       "        vertical-align: top;\n",
       "    }\n",
       "\n",
       "    .dataframe thead th {\n",
       "        text-align: right;\n",
       "    }\n",
       "</style>\n",
       "<table border=\"1\" class=\"dataframe\">\n",
       "  <thead>\n",
       "    <tr style=\"text-align: right;\">\n",
       "      <th></th>\n",
       "      <th>TotalSQFT</th>\n",
       "      <th>PropertyType__Commercial</th>\n",
       "      <th>PropertyType__Residential</th>\n",
       "      <th>ScopeofWork__ADDITION AND REMODELING</th>\n",
       "      <th>ScopeofWork__ANNUAL FACILITY</th>\n",
       "      <th>ScopeofWork__BOILER</th>\n",
       "      <th>ScopeofWork__BUILDING ROOFING</th>\n",
       "      <th>ScopeofWork__COOKIE CUTTER</th>\n",
       "      <th>ScopeofWork__DEMOLITION</th>\n",
       "      <th>ScopeofWork__ELECTRICAL</th>\n",
       "      <th>...</th>\n",
       "      <th>ScopeofWork__NEW CONSTRUCTION</th>\n",
       "      <th>ScopeofWork__PHASED PERMIT</th>\n",
       "      <th>ScopeofWork__PLUMBING</th>\n",
       "      <th>ScopeofWork__PLUMBING GAS</th>\n",
       "      <th>ScopeofWork__REMODELING/REPAIRS</th>\n",
       "      <th>ScopeofWork__SIGN</th>\n",
       "      <th>ScopeofWork__SPECIAL EVENTS</th>\n",
       "      <th>ScopeofWork__TREE PERMIT</th>\n",
       "      <th>IsPrivateProvider__False</th>\n",
       "      <th>IsPrivateProvider__True</th>\n",
       "    </tr>\n",
       "  </thead>\n",
       "  <tbody>\n",
       "    <tr>\n",
       "      <th>96955</th>\n",
       "      <td>1500.0</td>\n",
       "      <td>1</td>\n",
       "      <td>0</td>\n",
       "      <td>0</td>\n",
       "      <td>0</td>\n",
       "      <td>0</td>\n",
       "      <td>0</td>\n",
       "      <td>0</td>\n",
       "      <td>0</td>\n",
       "      <td>0</td>\n",
       "      <td>...</td>\n",
       "      <td>1</td>\n",
       "      <td>0</td>\n",
       "      <td>0</td>\n",
       "      <td>0</td>\n",
       "      <td>0</td>\n",
       "      <td>0</td>\n",
       "      <td>0</td>\n",
       "      <td>0</td>\n",
       "      <td>1</td>\n",
       "      <td>0</td>\n",
       "    </tr>\n",
       "    <tr>\n",
       "      <th>79448</th>\n",
       "      <td>0.0</td>\n",
       "      <td>0</td>\n",
       "      <td>1</td>\n",
       "      <td>0</td>\n",
       "      <td>0</td>\n",
       "      <td>0</td>\n",
       "      <td>0</td>\n",
       "      <td>0</td>\n",
       "      <td>1</td>\n",
       "      <td>0</td>\n",
       "      <td>...</td>\n",
       "      <td>0</td>\n",
       "      <td>0</td>\n",
       "      <td>0</td>\n",
       "      <td>0</td>\n",
       "      <td>0</td>\n",
       "      <td>0</td>\n",
       "      <td>0</td>\n",
       "      <td>0</td>\n",
       "      <td>1</td>\n",
       "      <td>0</td>\n",
       "    </tr>\n",
       "    <tr>\n",
       "      <th>15733</th>\n",
       "      <td>0.0</td>\n",
       "      <td>1</td>\n",
       "      <td>0</td>\n",
       "      <td>0</td>\n",
       "      <td>0</td>\n",
       "      <td>0</td>\n",
       "      <td>0</td>\n",
       "      <td>0</td>\n",
       "      <td>0</td>\n",
       "      <td>0</td>\n",
       "      <td>...</td>\n",
       "      <td>0</td>\n",
       "      <td>0</td>\n",
       "      <td>0</td>\n",
       "      <td>0</td>\n",
       "      <td>0</td>\n",
       "      <td>1</td>\n",
       "      <td>0</td>\n",
       "      <td>0</td>\n",
       "      <td>1</td>\n",
       "      <td>0</td>\n",
       "    </tr>\n",
       "    <tr>\n",
       "      <th>58394</th>\n",
       "      <td>0.0</td>\n",
       "      <td>1</td>\n",
       "      <td>0</td>\n",
       "      <td>0</td>\n",
       "      <td>0</td>\n",
       "      <td>0</td>\n",
       "      <td>0</td>\n",
       "      <td>0</td>\n",
       "      <td>0</td>\n",
       "      <td>0</td>\n",
       "      <td>...</td>\n",
       "      <td>1</td>\n",
       "      <td>0</td>\n",
       "      <td>0</td>\n",
       "      <td>0</td>\n",
       "      <td>0</td>\n",
       "      <td>0</td>\n",
       "      <td>0</td>\n",
       "      <td>0</td>\n",
       "      <td>0</td>\n",
       "      <td>1</td>\n",
       "    </tr>\n",
       "    <tr>\n",
       "      <th>52950</th>\n",
       "      <td>0.0</td>\n",
       "      <td>0</td>\n",
       "      <td>1</td>\n",
       "      <td>0</td>\n",
       "      <td>0</td>\n",
       "      <td>0</td>\n",
       "      <td>0</td>\n",
       "      <td>0</td>\n",
       "      <td>1</td>\n",
       "      <td>0</td>\n",
       "      <td>...</td>\n",
       "      <td>0</td>\n",
       "      <td>0</td>\n",
       "      <td>0</td>\n",
       "      <td>0</td>\n",
       "      <td>0</td>\n",
       "      <td>0</td>\n",
       "      <td>0</td>\n",
       "      <td>0</td>\n",
       "      <td>1</td>\n",
       "      <td>0</td>\n",
       "    </tr>\n",
       "  </tbody>\n",
       "</table>\n",
       "<p>5 rows × 24 columns</p>\n",
       "</div>"
      ],
      "text/plain": [
       "       TotalSQFT  PropertyType__Commercial  PropertyType__Residential  \\\n",
       "96955     1500.0                         1                          0   \n",
       "79448        0.0                         0                          1   \n",
       "15733        0.0                         1                          0   \n",
       "58394        0.0                         1                          0   \n",
       "52950        0.0                         0                          1   \n",
       "\n",
       "       ScopeofWork__ADDITION AND REMODELING  ScopeofWork__ANNUAL FACILITY  \\\n",
       "96955                                     0                             0   \n",
       "79448                                     0                             0   \n",
       "15733                                     0                             0   \n",
       "58394                                     0                             0   \n",
       "52950                                     0                             0   \n",
       "\n",
       "       ScopeofWork__BOILER  ScopeofWork__BUILDING ROOFING  \\\n",
       "96955                    0                              0   \n",
       "79448                    0                              0   \n",
       "15733                    0                              0   \n",
       "58394                    0                              0   \n",
       "52950                    0                              0   \n",
       "\n",
       "       ScopeofWork__COOKIE CUTTER  ScopeofWork__DEMOLITION  \\\n",
       "96955                           0                        0   \n",
       "79448                           0                        1   \n",
       "15733                           0                        0   \n",
       "58394                           0                        0   \n",
       "52950                           0                        1   \n",
       "\n",
       "       ScopeofWork__ELECTRICAL  ...  ScopeofWork__NEW CONSTRUCTION  \\\n",
       "96955                        0  ...                              1   \n",
       "79448                        0  ...                              0   \n",
       "15733                        0  ...                              0   \n",
       "58394                        0  ...                              1   \n",
       "52950                        0  ...                              0   \n",
       "\n",
       "       ScopeofWork__PHASED PERMIT  ScopeofWork__PLUMBING  \\\n",
       "96955                           0                      0   \n",
       "79448                           0                      0   \n",
       "15733                           0                      0   \n",
       "58394                           0                      0   \n",
       "52950                           0                      0   \n",
       "\n",
       "       ScopeofWork__PLUMBING GAS  ScopeofWork__REMODELING/REPAIRS  \\\n",
       "96955                          0                                0   \n",
       "79448                          0                                0   \n",
       "15733                          0                                0   \n",
       "58394                          0                                0   \n",
       "52950                          0                                0   \n",
       "\n",
       "       ScopeofWork__SIGN  ScopeofWork__SPECIAL EVENTS  \\\n",
       "96955                  0                            0   \n",
       "79448                  0                            0   \n",
       "15733                  1                            0   \n",
       "58394                  0                            0   \n",
       "52950                  0                            0   \n",
       "\n",
       "       ScopeofWork__TREE PERMIT  IsPrivateProvider__False  \\\n",
       "96955                         0                         1   \n",
       "79448                         0                         1   \n",
       "15733                         0                         1   \n",
       "58394                         0                         0   \n",
       "52950                         0                         1   \n",
       "\n",
       "       IsPrivateProvider__True  \n",
       "96955                        0  \n",
       "79448                        0  \n",
       "15733                        0  \n",
       "58394                        1  \n",
       "52950                        0  \n",
       "\n",
       "[5 rows x 24 columns]"
      ]
     },
     "execution_count": 51,
     "metadata": {},
     "output_type": "execute_result"
    }
   ],
   "source": [
    "X_train_processed.head()"
   ]
  },
  {
   "cell_type": "code",
   "execution_count": 52,
   "metadata": {},
   "outputs": [
    {
     "data": {
      "text/html": [
       "<div>\n",
       "<style scoped>\n",
       "    .dataframe tbody tr th:only-of-type {\n",
       "        vertical-align: middle;\n",
       "    }\n",
       "\n",
       "    .dataframe tbody tr th {\n",
       "        vertical-align: top;\n",
       "    }\n",
       "\n",
       "    .dataframe thead th {\n",
       "        text-align: right;\n",
       "    }\n",
       "</style>\n",
       "<table border=\"1\" class=\"dataframe\">\n",
       "  <thead>\n",
       "    <tr style=\"text-align: right;\">\n",
       "      <th></th>\n",
       "      <th>TotalSQFT</th>\n",
       "      <th>PropertyType__Commercial</th>\n",
       "      <th>PropertyType__Residential</th>\n",
       "      <th>ScopeofWork__ADDITION AND REMODELING</th>\n",
       "      <th>ScopeofWork__ANNUAL FACILITY</th>\n",
       "      <th>ScopeofWork__BOILER</th>\n",
       "      <th>ScopeofWork__BUILDING ROOFING</th>\n",
       "      <th>ScopeofWork__COOKIE CUTTER</th>\n",
       "      <th>ScopeofWork__DEMOLITION</th>\n",
       "      <th>ScopeofWork__ELECTRICAL</th>\n",
       "      <th>...</th>\n",
       "      <th>ScopeofWork__NEW CONSTRUCTION</th>\n",
       "      <th>ScopeofWork__PHASED PERMIT</th>\n",
       "      <th>ScopeofWork__PLUMBING</th>\n",
       "      <th>ScopeofWork__PLUMBING GAS</th>\n",
       "      <th>ScopeofWork__REMODELING/REPAIRS</th>\n",
       "      <th>ScopeofWork__SIGN</th>\n",
       "      <th>ScopeofWork__SPECIAL EVENTS</th>\n",
       "      <th>ScopeofWork__TREE PERMIT</th>\n",
       "      <th>IsPrivateProvider__False</th>\n",
       "      <th>IsPrivateProvider__True</th>\n",
       "    </tr>\n",
       "  </thead>\n",
       "  <tbody>\n",
       "    <tr>\n",
       "      <th>4849</th>\n",
       "      <td>0.0</td>\n",
       "      <td>1</td>\n",
       "      <td>0</td>\n",
       "      <td>0</td>\n",
       "      <td>0</td>\n",
       "      <td>0</td>\n",
       "      <td>0</td>\n",
       "      <td>0</td>\n",
       "      <td>0</td>\n",
       "      <td>0</td>\n",
       "      <td>...</td>\n",
       "      <td>0</td>\n",
       "      <td>0</td>\n",
       "      <td>0</td>\n",
       "      <td>0</td>\n",
       "      <td>1</td>\n",
       "      <td>0</td>\n",
       "      <td>0</td>\n",
       "      <td>0</td>\n",
       "      <td>1</td>\n",
       "      <td>0</td>\n",
       "    </tr>\n",
       "    <tr>\n",
       "      <th>51550</th>\n",
       "      <td>0.0</td>\n",
       "      <td>0</td>\n",
       "      <td>1</td>\n",
       "      <td>0</td>\n",
       "      <td>0</td>\n",
       "      <td>0</td>\n",
       "      <td>0</td>\n",
       "      <td>0</td>\n",
       "      <td>1</td>\n",
       "      <td>0</td>\n",
       "      <td>...</td>\n",
       "      <td>0</td>\n",
       "      <td>0</td>\n",
       "      <td>0</td>\n",
       "      <td>0</td>\n",
       "      <td>0</td>\n",
       "      <td>0</td>\n",
       "      <td>0</td>\n",
       "      <td>0</td>\n",
       "      <td>1</td>\n",
       "      <td>0</td>\n",
       "    </tr>\n",
       "    <tr>\n",
       "      <th>119222</th>\n",
       "      <td>0.0</td>\n",
       "      <td>1</td>\n",
       "      <td>0</td>\n",
       "      <td>0</td>\n",
       "      <td>0</td>\n",
       "      <td>0</td>\n",
       "      <td>0</td>\n",
       "      <td>0</td>\n",
       "      <td>0</td>\n",
       "      <td>0</td>\n",
       "      <td>...</td>\n",
       "      <td>1</td>\n",
       "      <td>0</td>\n",
       "      <td>0</td>\n",
       "      <td>0</td>\n",
       "      <td>0</td>\n",
       "      <td>0</td>\n",
       "      <td>0</td>\n",
       "      <td>0</td>\n",
       "      <td>0</td>\n",
       "      <td>1</td>\n",
       "    </tr>\n",
       "    <tr>\n",
       "      <th>108255</th>\n",
       "      <td>0.0</td>\n",
       "      <td>1</td>\n",
       "      <td>0</td>\n",
       "      <td>0</td>\n",
       "      <td>0</td>\n",
       "      <td>0</td>\n",
       "      <td>0</td>\n",
       "      <td>0</td>\n",
       "      <td>0</td>\n",
       "      <td>0</td>\n",
       "      <td>...</td>\n",
       "      <td>0</td>\n",
       "      <td>0</td>\n",
       "      <td>0</td>\n",
       "      <td>0</td>\n",
       "      <td>0</td>\n",
       "      <td>1</td>\n",
       "      <td>0</td>\n",
       "      <td>0</td>\n",
       "      <td>1</td>\n",
       "      <td>0</td>\n",
       "    </tr>\n",
       "    <tr>\n",
       "      <th>66685</th>\n",
       "      <td>0.0</td>\n",
       "      <td>0</td>\n",
       "      <td>1</td>\n",
       "      <td>0</td>\n",
       "      <td>0</td>\n",
       "      <td>0</td>\n",
       "      <td>0</td>\n",
       "      <td>0</td>\n",
       "      <td>0</td>\n",
       "      <td>0</td>\n",
       "      <td>...</td>\n",
       "      <td>0</td>\n",
       "      <td>0</td>\n",
       "      <td>1</td>\n",
       "      <td>0</td>\n",
       "      <td>0</td>\n",
       "      <td>0</td>\n",
       "      <td>0</td>\n",
       "      <td>0</td>\n",
       "      <td>1</td>\n",
       "      <td>0</td>\n",
       "    </tr>\n",
       "  </tbody>\n",
       "</table>\n",
       "<p>5 rows × 24 columns</p>\n",
       "</div>"
      ],
      "text/plain": [
       "        TotalSQFT  PropertyType__Commercial  PropertyType__Residential  \\\n",
       "4849          0.0                         1                          0   \n",
       "51550         0.0                         0                          1   \n",
       "119222        0.0                         1                          0   \n",
       "108255        0.0                         1                          0   \n",
       "66685         0.0                         0                          1   \n",
       "\n",
       "        ScopeofWork__ADDITION AND REMODELING  ScopeofWork__ANNUAL FACILITY  \\\n",
       "4849                                       0                             0   \n",
       "51550                                      0                             0   \n",
       "119222                                     0                             0   \n",
       "108255                                     0                             0   \n",
       "66685                                      0                             0   \n",
       "\n",
       "        ScopeofWork__BOILER  ScopeofWork__BUILDING ROOFING  \\\n",
       "4849                      0                              0   \n",
       "51550                     0                              0   \n",
       "119222                    0                              0   \n",
       "108255                    0                              0   \n",
       "66685                     0                              0   \n",
       "\n",
       "        ScopeofWork__COOKIE CUTTER  ScopeofWork__DEMOLITION  \\\n",
       "4849                             0                        0   \n",
       "51550                            0                        1   \n",
       "119222                           0                        0   \n",
       "108255                           0                        0   \n",
       "66685                            0                        0   \n",
       "\n",
       "        ScopeofWork__ELECTRICAL  ...  ScopeofWork__NEW CONSTRUCTION  \\\n",
       "4849                          0  ...                              0   \n",
       "51550                         0  ...                              0   \n",
       "119222                        0  ...                              1   \n",
       "108255                        0  ...                              0   \n",
       "66685                         0  ...                              0   \n",
       "\n",
       "        ScopeofWork__PHASED PERMIT  ScopeofWork__PLUMBING  \\\n",
       "4849                             0                      0   \n",
       "51550                            0                      0   \n",
       "119222                           0                      0   \n",
       "108255                           0                      0   \n",
       "66685                            0                      1   \n",
       "\n",
       "        ScopeofWork__PLUMBING GAS  ScopeofWork__REMODELING/REPAIRS  \\\n",
       "4849                            0                                1   \n",
       "51550                           0                                0   \n",
       "119222                          0                                0   \n",
       "108255                          0                                0   \n",
       "66685                           0                                0   \n",
       "\n",
       "        ScopeofWork__SIGN  ScopeofWork__SPECIAL EVENTS  \\\n",
       "4849                    0                            0   \n",
       "51550                   0                            0   \n",
       "119222                  0                            0   \n",
       "108255                  1                            0   \n",
       "66685                   0                            0   \n",
       "\n",
       "        ScopeofWork__TREE PERMIT  IsPrivateProvider__False  \\\n",
       "4849                           0                         1   \n",
       "51550                          0                         1   \n",
       "119222                         0                         0   \n",
       "108255                         0                         1   \n",
       "66685                          0                         1   \n",
       "\n",
       "        IsPrivateProvider__True  \n",
       "4849                          0  \n",
       "51550                         0  \n",
       "119222                        1  \n",
       "108255                        0  \n",
       "66685                         0  \n",
       "\n",
       "[5 rows x 24 columns]"
      ]
     },
     "execution_count": 52,
     "metadata": {},
     "output_type": "execute_result"
    }
   ],
   "source": [
    "X_test_processed.head()"
   ]
  },
  {
   "cell_type": "markdown",
   "metadata": {},
   "source": [
    "### Trying out some models:"
   ]
  },
  {
   "cell_type": "markdown",
   "metadata": {},
   "source": [
    "First, a ridge regression model:"
   ]
  },
  {
   "cell_type": "code",
   "execution_count": 59,
   "metadata": {},
   "outputs": [
    {
     "name": "stdout",
     "output_type": "stream",
     "text": [
      "Training set score: 0.12\n",
      "Test set score: 0.13\n",
      "Cross Validation Score: 0.12302776278019205\n",
      "lr.coef_: [ 3.61795387e-06 -4.17439058e-02  4.17439058e-02  1.32223627e+00\n",
      " -6.21354242e-03  2.66484724e-01 -1.21279877e+00  1.29470144e+00\n",
      "  5.12542908e-01 -6.16987028e-01 -3.45164091e-01 -6.16133339e-01\n",
      "  5.75854361e-01 -5.60495778e-01  7.61273056e-01  1.40305860e-01\n",
      " -7.61524469e-01 -7.86668200e-01  3.33762294e-01  2.57249766e-01\n",
      " -1.55268883e+00  9.94263364e-01  1.55462969e-01 -1.55462969e-01]\n",
      "lr.intercept_: 3.080982036295839\n"
     ]
    }
   ],
   "source": [
    "from sklearn.linear_model import Ridge\n",
    "ridge = Ridge().fit(X_train_processed, y_train)\n",
    "\n",
    "print(\"Training set score: {:.2f}\".format(ridge.score(X_train_processed, y_train)))\n",
    "print(\"Test set score: {:.2f}\".format(ridge.score(X_test_processed, y_test)))\n",
    "#The “slope” parameters (w), also called weights or coefficients, are stored in the coef_\n",
    "#..attribute, while the offset or intercept (b) is stored in the intercept_ attribute:\n",
    "\n",
    "#cross validation\n",
    "from sklearn.model_selection import cross_val_score\n",
    "print(\"Cross Validation Score:\",np.mean(cross_val_score(Ridge(), X_train_processed, y_train, cv=10, scoring=\"r2\")))\n",
    "\n",
    "print(\"lr.coef_: {}\".format(ridge.coef_))\n",
    "print(\"lr.intercept_: {}\".format(ridge.intercept_))"
   ]
  },
  {
   "cell_type": "markdown",
   "metadata": {},
   "source": [
    "Just messing with the alpha parameter a bit:"
   ]
  },
  {
   "cell_type": "code",
   "execution_count": 64,
   "metadata": {
    "scrolled": true
   },
   "outputs": [
    {
     "name": "stderr",
     "output_type": "stream",
     "text": [
      "C:\\Users\\Dell\\Anaconda3\\lib\\site-packages\\sklearn\\model_selection\\_split.py:2053: FutureWarning: You should specify a value for 'cv' instead of relying on the default value. The default value will change from 3 to 5 in version 0.22.\n",
      "  warnings.warn(CV_WARNING, FutureWarning)\n",
      "C:\\Users\\Dell\\Anaconda3\\lib\\site-packages\\sklearn\\linear_model\\ridge.py:125: LinAlgWarning: Ill-conditioned matrix (rcond=6.5493e-17): result may not be accurate.\n",
      "  overwrite_a=True).T\n",
      "C:\\Users\\Dell\\Anaconda3\\lib\\site-packages\\sklearn\\linear_model\\ridge.py:125: LinAlgWarning: Ill-conditioned matrix (rcond=6.41866e-17): result may not be accurate.\n",
      "  overwrite_a=True).T\n",
      "C:\\Users\\Dell\\Anaconda3\\lib\\site-packages\\sklearn\\linear_model\\ridge.py:125: LinAlgWarning: Ill-conditioned matrix (rcond=6.61171e-17): result may not be accurate.\n",
      "  overwrite_a=True).T\n"
     ]
    },
    {
     "name": "stdout",
     "output_type": "stream",
     "text": [
      "best parameters: {'alpha': 10}\n",
      "best mean cross-validation score for ridge: 0.123\n"
     ]
    }
   ],
   "source": [
    "#tuning ridge with GridSearchCV \n",
    "from sklearn.model_selection import GridSearchCV\n",
    "\n",
    "param_grid = {'alpha': [25,10,4,2,1.0,0.8,0.5,0.3,0.2,0.1,0.05,0.02,0.01]}\n",
    "\n",
    "grid = GridSearchCV(Ridge(), param_grid)\n",
    "\n",
    "grid.fit(X_train_processed, y_train)\n",
    "print(\"best parameters: {}\".format(grid.best_params_))\n",
    "print(\"best mean cross-validation score for ridge: {:.3f}\".format(grid.best_score_))"
   ]
  },
  {
   "cell_type": "markdown",
   "metadata": {},
   "source": [
    "Printing R^2 with best hyperparameter values:"
   ]
  },
  {
   "cell_type": "code",
   "execution_count": 77,
   "metadata": {},
   "outputs": [
    {
     "name": "stdout",
     "output_type": "stream",
     "text": [
      "R^2: 0.1269584797038199\n"
     ]
    }
   ],
   "source": [
    "from sklearn.metrics import r2_score\n",
    "\n",
    "ridge = Ridge(alpha=10).fit(X_train_processed, y_train)\n",
    "\n",
    "y_pred = ridge.predict(X_test_processed)\n",
    "\n",
    "print(\"R^2:\",r2_score(y_test, y_pred))"
   ]
  },
  {
   "cell_type": "markdown",
   "metadata": {},
   "source": [
    "Now, a Lasso regression model:"
   ]
  },
  {
   "cell_type": "code",
   "execution_count": 61,
   "metadata": {
    "scrolled": true
   },
   "outputs": [
    {
     "name": "stdout",
     "output_type": "stream",
     "text": [
      "Training set score: 0.01\n",
      "Test set score: 0.02\n",
      "Number of features used: 1\n",
      "lasso.coef_: [ 4.03812558e-06 -0.00000000e+00  0.00000000e+00  0.00000000e+00\n",
      " -0.00000000e+00  0.00000000e+00 -0.00000000e+00  0.00000000e+00\n",
      "  0.00000000e+00 -0.00000000e+00 -0.00000000e+00 -0.00000000e+00\n",
      "  0.00000000e+00 -0.00000000e+00  0.00000000e+00 -0.00000000e+00\n",
      " -0.00000000e+00 -0.00000000e+00  0.00000000e+00 -0.00000000e+00\n",
      " -0.00000000e+00  0.00000000e+00 -0.00000000e+00  0.00000000e+00]\n"
     ]
    }
   ],
   "source": [
    "from sklearn.linear_model import Lasso\n",
    "lasso = Lasso().fit(X_train_processed, y_train)\n",
    "print(\"Training set score: {:.2f}\".format(lasso.score(X_train_processed, y_train)))\n",
    "print(\"Test set score: {:.2f}\".format(lasso.score(X_test_processed, y_test)))\n",
    "print(\"Number of features used: {}\".format(np.sum(lasso.coef_ != 0)))\n",
    "\n",
    "print(\"lasso.coef_: {}\".format(lasso.coef_))"
   ]
  },
  {
   "cell_type": "markdown",
   "metadata": {},
   "source": [
    "Seeing if I can mess with the hyperparameters:"
   ]
  },
  {
   "cell_type": "code",
   "execution_count": 65,
   "metadata": {
    "scrolled": true
   },
   "outputs": [
    {
     "name": "stderr",
     "output_type": "stream",
     "text": [
      "C:\\Users\\Dell\\Anaconda3\\lib\\site-packages\\sklearn\\model_selection\\_split.py:2053: FutureWarning: You should specify a value for 'cv' instead of relying on the default value. The default value will change from 3 to 5 in version 0.22.\n",
      "  warnings.warn(CV_WARNING, FutureWarning)\n"
     ]
    },
    {
     "name": "stdout",
     "output_type": "stream",
     "text": [
      "best parameters: {'alpha': 0.01, 'max_iter': 100000}\n",
      "best mean cross-validation score for lasso: 0.108\n"
     ]
    }
   ],
   "source": [
    "#tuning lasso with GridSearchCV \n",
    "param_grid = {'alpha': [25,10,4,2,1.0,0.8,0.5,0.3,0.2,0.1,0.05,0.02,0.01], 'max_iter': [100000]}\n",
    "\n",
    "grid = GridSearchCV(Lasso(), param_grid)\n",
    "\n",
    "grid.fit(X_train_processed, y_train)\n",
    "print(\"best parameters: {}\".format(grid.best_params_))\n",
    "print(\"best mean cross-validation score for lasso: {:.3f}\".format(grid.best_score_))"
   ]
  },
  {
   "cell_type": "markdown",
   "metadata": {},
   "source": [
    "Printing R^2 with best hyperparameter values:"
   ]
  },
  {
   "cell_type": "code",
   "execution_count": 80,
   "metadata": {},
   "outputs": [
    {
     "name": "stdout",
     "output_type": "stream",
     "text": [
      "R^2: 0.11100299473436359\n"
     ]
    }
   ],
   "source": [
    "lasso = Lasso(alpha=0.01, max_iter=100000).fit(X_train_processed, y_train)\n",
    "\n",
    "y_pred = lasso.predict(X_test_processed)\n",
    "\n",
    "print(\"R^2:\",r2_score(y_test, y_pred))"
   ]
  }
 ],
 "metadata": {
  "kernelspec": {
   "display_name": "Python 3",
   "language": "python",
   "name": "python3"
  },
  "language_info": {
   "codemirror_mode": {
    "name": "ipython",
    "version": 3
   },
   "file_extension": ".py",
   "mimetype": "text/x-python",
   "name": "python",
   "nbconvert_exporter": "python",
   "pygments_lexer": "ipython3",
   "version": "3.7.3"
  }
 },
 "nbformat": 4,
 "nbformat_minor": 2
}
